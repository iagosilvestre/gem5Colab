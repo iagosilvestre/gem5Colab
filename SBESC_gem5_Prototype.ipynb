{
  "nbformat": 4,
  "nbformat_minor": 0,
  "metadata": {
    "colab": {
      "name": "SBESC gem5 Prototype.ipynb",
      "provenance": [],
      "collapsed_sections": [
        "JuVn21kt40Gw",
        "hqwOlJG4MdLC"
      ],
      "include_colab_link": true
    },
    "kernelspec": {
      "name": "python3",
      "display_name": "Python 3"
    }
  },
  "cells": [
    {
      "cell_type": "markdown",
      "metadata": {
        "id": "view-in-github",
        "colab_type": "text"
      },
      "source": [
        "<a href=\"https://colab.research.google.com/github/iagosilvestre/Gerenciador-de-Ocorrencia/blob/master/SBESC_gem5_Prototype.ipynb\" target=\"_parent\"><img src=\"https://colab.research.google.com/assets/colab-badge.svg\" alt=\"Open In Colab\"/></a>"
      ]
    },
    {
      "cell_type": "markdown",
      "metadata": {
        "id": "x2FxRnpxyXh6"
      },
      "source": [
        ""
      ]
    },
    {
      "cell_type": "markdown",
      "metadata": {
        "id": "0cKdTCuv4tXh"
      },
      "source": [
        "# gem5 Prototype!\n",
        "\n",
        "This is visual prototype for gem5 for google colab.\n",
        "\n",
        "\n",
        "# Overview\n",
        "*   Install dependencies and gem5 simulation tool.\n",
        "*   Import the control program under test from google drive.\n",
        "*   Create simulation checkpoints.(not necessary)\n",
        "*   Run simulation.\n",
        "*   Export results to drive\n",
        "\n"
      ]
    },
    {
      "cell_type": "markdown",
      "metadata": {
        "id": "JuVn21kt40Gw"
      },
      "source": [
        "## Install or update gem5\n",
        "\n",
        "* Install or update gem5 directly from Github\n",
        "* Requirements install is automatically\n",
        "* Automatically sets timer to prevent random disconnects\n"
      ]
    },
    {
      "cell_type": "code",
      "metadata": {
        "id": "JG-f2WqT4fLK",
        "cellView": "form"
      },
      "source": [
        "#@title Install or update gem5 from Github\n",
        "\n",
        "Mode = \"install\" #@param [\"install\", \"update\"]\n",
        "#Download_ = False #@param {type:\"boolean\"}\n",
        "\n",
        "\n",
        "from pathlib import Path\n",
        "if (Mode == \"install\"):\n",
        "  !apt-get install build-essential\n",
        "  !apt-get install git\n",
        "  !apt-get install scons\n",
        "  !apt-get install mtools\n",
        "  !apt-get install zlib1g\n",
        "  !apt-get install zlib1g-dev\n",
        "  !apt-get install libprotobuf-dev\n",
        "  !apt-get install protobuf-compiler\n",
        "  !apt-get install libprotoc-dev\n",
        "  !sudo apt-get install python3 python3-six python3-pydot\n",
        "  !apt-get install libgoogle-perftools-dev\n",
        "  !apt-get install python-dev\n",
        "  !apt-get install python\n",
        "  !apt-get install gcc-arm\n",
        "  !apt-get install libeigen3-dev\n",
        "  !apt-get install g++-arm-linux-gnueabi\n",
        "  !apt-get install automake\n",
        "  !apt-get install python-six\n",
        "  !apt install python3-six\n",
        "  !apt install unzip\n",
        "  !sudo apt-get install telnet\n",
        "  !mkdir /content/fs  \n",
        "  !mkdir /content/fs/disks\n",
        "  !mkdir /content/fs/binaries\n",
        "  #!git clone https://gem5.googlesource.com/public/gem5\n",
        "  !git clone https://github.com/iagosilvestre/gem5\n",
        "  !git clone https://github.com/iagosilvestre/ProVANT-Control-Test-gem5\n",
        "  !cp /content/ProVANT-Control-Test-gem5/gem5.fast /content/gem5/build/ARM\n",
        "  !cp /content/ProVANT-Control-Test-gem5/workloads.img /content/fs/disks\n",
        "  !cp /content/ProVANT-Control-Test-gem5/boot.arm64 /content/fs/binaries/\n",
        "  !cp /content/gem5/configs/boot/hack_back_ckpt.rcS /content/gem5/\n",
        "  %env GEM5_PATH=/content/gem5\n",
        "  %env M5_PATH=/content/fs/\n",
        "  %cd /content/fs/\n",
        "  !wget \"http://www.m5sim.org/dist/current/arm/aarch-system-20180409.tar.xz\"\n",
        "  !tar xf aarch-system-20180409.tar.xz\n",
        "  %cd /content/fs/disks/\n",
        "  !wget --load-cookies /tmp/cookies.txt \"https://docs.google.com/uc?export=download&confirm=$(wget --quiet --save-cookies /tmp/cookies.txt --keep-session-cookies --no-check-certificate 'https://docs.google.com/uc?export=download&id=1_qt0Wsdi2od9MZqaWDUWlfZzY19Qha7d' -O- | sed -rn 's/.*confirm=([0-9A-Za-z_]+).*/\\1\\n/p')&id=1_qt0Wsdi2od9MZqaWDUWlfZzY19Qha7d\" -O linaro-minimal-aarch64.img && rm -rf /tmp/cookies.txt\n",
        "  !wget --no-check-certificate 'https://docs.google.com/uc?export=download&id=1ciSPByowaMEbm73i5yQN9NmXnbeC9T5C' -O workloads.img\n",
        "  !wget --no-check-certificate 'https://docs.google.com/uc?export=download&id=1zpajAS1HSKJGme6xDY4DyvtILdZUTOgI' -O colab.img\n",
        "  %cd /content/gem5/\n",
        "  #!wget --load-cookies /tmp/cookies.txt \"https://docs.google.com/uc?export=download&confirm=$(wget --quiet --save-cookies /tmp/cookies.txt --keep-session-cookies --no-check-certificate 'https://docs.google.com/uc?export=download&id=1d506v_eb0fSJkWhUcSOc8VTV6vCRsATz' -O- | sed -rn 's/.*confirm=([0-9A-Za-z_]+).*/\\1\\n/p')&id=1d506v_eb0fSJkWhUcSOc8VTV6vCRsATz\" -O build3.zip && rm -rf /tmp/cookies.txt\n",
        "  #!unzip build3.zip\n",
        "  !wget wget --load-cookies /tmp/cookies.txt \"https://docs.google.com/uc?export=download&confirm=$(wget --quiet --save-cookies /tmp/cookies.txt --keep-session-cookies --no-check-certificate 'https://docs.google.com/uc?export=download&id=1wDBgjWAx577QjdMmj-Qmv9toVnx7R6zb' -O- | sed -rn 's/.*confirm=([0-9A-Za-z_]+).*/\\1\\n/p')&id=1wDBgjWAx577QjdMmj-Qmv9toVnx7R6zb\" -O build4.zip && rm -rf /tmp/cookies.txt\n",
        "  !unzip build4.zip\n",
        "  #!wget --load-cookies /tmp/cookies.txt \"https://docs.google.com/uc?export=download&confirm=$(wget --quiet --save-cookies /tmp/cookies.txt --keep-session-cookies --no-check-certificate 'https://docs.google.com/uc?export=download&id=1QPfQaNFYNeHC-L_lN5qUYWEb4OI4--vG' -O- | sed -rn 's/.*confirm=([0-9A-Za-z_]+).*/\\1\\n/p')&id=1QPfQaNFYNeHC-L_lN5qUYWEb4OI4--vG\" -O build.zip && rm -rf /tmp/cookies.txt\n",
        "  #!unzip build.zip\n",
        "  #!wget --no-check-certificate 'https://docs.google.com/uc?export=download&id=1-2WRGjl5uwj_NfIXW1VbLbocDQqFGe2N' -O m5out.zip\n",
        "  #!unzip m5out.zip\n",
        "\n",
        "\n",
        "  #!wget --load-cookies /tmp/cookies.txt \"https://docs.google.com/uc?export=download&confirm=$(wget --quiet --save-cookies /tmp/cookies.txt --keep-session-cookies --no-check-certificate 'https://docs.google.com/uc?export=download&id=1--f9tLUop4WrYGMtpUPbxGKNDAFoaaSA' -O- | sed -rn 's/.*confirm=([0-9A-Za-z_]+).*/\\1\\n/p')&id=1--f9tLUop4WrYGMtpUPbxGKNDAFoaaSA\" -O build2.zip && rm -rf /tmp/cookies.txt\n",
        "  #!unzip build2.zip\n",
        "  #!wget --load-cookies /tmp/cookies.txt \"https://docs.google.com/uc?export=download&confirm=$(wget --quiet --save-cookies /tmp/cookies.txt --keep-session-cookies --no-check-certificate 'https://docs.google.com/uc?export=download&id=1d506v_eb0fSJkWhUcSOc8VTV6vCRsATz' -O- | sed -rn 's/.*confirm=([0-9A-Za-z_]+).*/\\1\\n/p')&id=1d506v_eb0fSJkWhUcSOc8VTV6vCRsATz\" -O build3.zip && rm -rf /tmp/cookies.txt\n",
        "  #!unzip build3.zip\n",
        "  \n",
        "  #!wget --no-check-certificate 'https://docs.google.com/uc?export=download&id=1--iCvnMSpU71mU9ZV0-4BTZhXj3K9atf' -O m5out2.zip\n",
        "  #!wget --no-check-certificate 'https://docs.google.com/uc?export=download&id=1-4iu-ndRn3JsYOSwccrhH9uvoQzvJfqO' -O m5out4.zip\n",
        "  #!wget --load-cookies /tmp/cookies.txt \"https://docs.google.com/uc?export=download&confirm=$(wget --quiet --save-cookies /tmp/cookies.txt --keep-session-cookies --no-check-certificate 'https://docs.google.com/uc?export=download&id=1-4iu-ndRn3JsYOSwccrhH9uvoQzvJfqO' -O- | sed -rn 's/.*confirm=([0-9A-Za-z_]+).*/\\1\\n/p')&id=1-4iu-ndRn3JsYOSwccrhH9uvoQzvJfqO\" -O m5out4.zip && rm -rf /tmp/cookies.txt\n",
        "  #!unzip m5out4.zip\n",
        "  \n",
        "  #!wget --load-cookies /tmp/cookies.txt \"https://docs.google.com/uc?export=download&confirm=$(wget --quiet --save-cookies /tmp/cookies.txt --keep-session-cookies --no-check-certificate 'https://docs.google.com/uc?export=download&id=1-PQOWPs280WvuG68Dcdq4UB7yb182AMR' -O- | sed -rn 's/.*confirm=([0-9A-Za-z_]+).*/\\1\\n/p')&id=1-PQOWPs280WvuG68Dcdq4UB7yb182AMR\" -O m5out7.zip && rm -rf /tmp/cookies.txt\n",
        "  #!unzip m5out7.zip\n",
        "  #!wget --load-cookies /tmp/cookies.txt \"https://docs.google.com/uc?export=download&confirm=$(wget --quiet --save-cookies /tmp/cookies.txt --keep-session-cookies --no-check-certificate 'https://docs.google.com/uc?export=download&id=1-6dMU0tNay4aHur69QjAv_DHNjhnipCb' -O- | sed -rn 's/.*confirm=([0-9A-Za-z_]+).*/\\1\\n/p')&id=1-6dMU0tNay4aHur69QjAv_DHNjhnipCb\" -O m5out9.zip && rm -rf /tmp/cookies.txt\n",
        "  #!unzip m5out9.zip\n",
        "  #!wget --load-cookies /tmp/cookies.txt \"https://docs.google.com/uc?export=download&confirm=$(wget --quiet --save-cookies /tmp/cookies.txt --keep-session-cookies --no-check-certificate 'https://docs.google.com/uc?export=download&id=1KMjirvm5GH7yYSlAaZ0i8UFbYAm5qaRQ' -O- | sed -rn 's/.*confirm=([0-9A-Za-z_]+).*/\\1\\n/p')&id=1KMjirvm5GH7yYSlAaZ0i8UFbYAm5qaRQ\" -O m5out10.zip && rm -rf /tmp/cookies.txt\n",
        "  #!unzip m5out10.zip\n",
        "  !wget --no-check-certificate 'https://docs.google.com/uc?export=download&id=1-Fz5_-Qd9hH9waD8YU11h90Wc9L7G5YF' -O m5out11.zip\n",
        "  !unzip m5out11.zip\n",
        "  !wget --no-check-certificate 'https://docs.google.com/uc?export=download&id=1gicCC6aEZpes9TGwVD5sb14F5TSlrG0q' -O control.rcS\n",
        "  #%cd /content/gem5/m5out/\n",
        "  #!wget --no-check-certificate 'https://docs.google.com/uc?export=download&id=1m631XqXoDS-uzgT_QfzWeMTnr0i2QBJv' -O cpt.zip\n",
        "  #!unzip cpt.zip\n",
        "else:\n",
        "  %cd /content/gem5\n",
        "  !git pull\n",
        "  %cd /content/ProVANT-Control-Test-gem5\n",
        "  !git pull\n",
        "  !cp /content/ProVANT-Control-Test-gem5/control.rcS /content/gem5/\n",
        "  %cd /content/\n",
        "\n",
        "print(\"\\nDone!\")"
      ],
      "execution_count": null,
      "outputs": []
    },
    {
      "cell_type": "code",
      "metadata": {
        "id": "mdlSTN2XnEhK"
      },
      "source": [
        "%cd /content/gem5/\n",
        "!wget --no-check-certificate 'https://docs.google.com/uc?export=download&id=1-Fz5_-Qd9hH9waD8YU11h90Wc9L7G5YF' -O m5out11.zip\n",
        "!unzip m5out11.zip"
      ],
      "execution_count": null,
      "outputs": []
    },
    {
      "cell_type": "markdown",
      "metadata": {
        "id": "hqwOlJG4MdLC"
      },
      "source": [
        "## Manage workspace\n",
        "\n",
        "*   You can build a gem5 simulation binary for a specific ISA, however default installation already imports the ARM architecture.\n",
        "*   You can import/export workspace\n",
        "*   Also, you can use HFS (HTTP Fileserver) for directly import/export you workspace from your computer\n",
        "*   You can clear all workspace or delete part of it\n",
        "\n"
      ]
    },
    {
      "cell_type": "code",
      "metadata": {
        "id": "z4w_sUzgOQmL",
        "colab": {
          "base_uri": "https://localhost:8080/"
        },
        "outputId": "2176601b-dcc4-4a1e-fb34-8d57a14b4bb9"
      },
      "source": [
        "#@title Import from Drive\n",
        "\n",
        "Mode = \"ARM Compiled Binary\" #@param [\"gem5.fast\",\"m5out\",\"build\",\"workloads.img\",\"ARM Compiled Binary\"]\n",
        "Archive_name = \"vant2loadHinfinity\" #@param {type:\"string\"}\n",
        "\n",
        "#Mount Google Drive as folder\n",
        "from google.colab import drive\n",
        "drive.mount('/content/drive', force_remount=True)\n",
        "\n",
        "def zip_and_copy(path, mode):\n",
        "  unzip_cmd=\" -q \"+Archive_name\n",
        "  \n",
        "  %cd $path\n",
        "  copy_cmd = \"/content/drive/My\\ Drive/\"+Archive_name+\" \"+path\n",
        "  !cp $copy_cmd\n",
        "  !unzip $unzip_cmd    \n",
        "  !rm $Archive_name\n",
        "\n",
        "if Mode == \"gem5.fast\":\n",
        "  !cp /content/drive/My\\ Drive/gem5.fast /content/gem5/build/ARM/\n",
        "elif Mode == \"m5out\":\n",
        "  zip_and_copy(\"/content/gem5\", \"m5out\")\n",
        "elif Mode == \"build\":\n",
        "  zip_and_copy(\"/content/gem5\", \"build\")\n",
        "elif Mode == \"workloads.img\":\n",
        "  !cp /content/drive/My\\ Drive/workloads.img /content/fs/disks/\n",
        "elif Mode == \"ARM Compiled Binary\":\n",
        "  copy_cmd = \"/content/drive/My\\ Drive/\"+Archive_name+\" \"\n",
        "  !cp -f $copy_cmd /content/fs/disks/\n",
        "  !rm -f /content/fs/disks/SUT\n",
        "  ren_cmd = \"/content/fs/disks/\"+Archive_name+\" \"\n",
        "  !mv $ren_cmd /content/fs/disks/SUT\n",
        "  #mcopy -i ~/images/fat_file.img hello.txt ::subdir/hello.txt\n",
        "  #!cd /content/fs/disks/\n",
        "  #!mcopy -n /content/fs/disks/workloads.img SUT::SUT\n",
        "\n",
        "  %cd /content/fs/disks/\n",
        "  !mcopy -D o -i colab.img ./SUT ::\n",
        "print(\"Done!\")\n",
        "\n"
      ],
      "execution_count": 81,
      "outputs": [
        {
          "output_type": "stream",
          "text": [
            "Mounted at /content/drive\n",
            "/content/fs/disks\n",
            "Done!\n"
          ],
          "name": "stdout"
        }
      ]
    },
    {
      "cell_type": "code",
      "metadata": {
        "id": "UXCAaH93h32_"
      },
      "source": [
        "!sudo su"
      ],
      "execution_count": null,
      "outputs": []
    },
    {
      "cell_type": "code",
      "metadata": {
        "colab": {
          "base_uri": "https://localhost:8080/"
        },
        "id": "WoYO4Pvqh8zV",
        "outputId": "076abf1f-41bf-475a-f5b1-3a8dd1dfc1a0"
      },
      "source": [
        "!rm -rf /content/testgem5"
      ],
      "execution_count": null,
      "outputs": [
        {
          "output_type": "stream",
          "text": [
            "shell-init: error retrieving current directory: getcwd: cannot access parent directories: No such file or directory\n"
          ],
          "name": "stdout"
        }
      ]
    },
    {
      "cell_type": "code",
      "metadata": {
        "colab": {
          "base_uri": "https://localhost:8080/"
        },
        "id": "pcFiyBAPgKxE",
        "outputId": "c1d7a3a1-ee88-4f3a-c72d-c547f090b467"
      },
      "source": [
        "%cd /content/fs/disks\n",
        "!dd if=/dev/zero of=teste.img bs=1M count=100\n",
        "!mkfs ext4 -F teste.img"
      ],
      "execution_count": 6,
      "outputs": [
        {
          "output_type": "stream",
          "text": [
            "/content/fs/disks\n",
            "100+0 records in\n",
            "100+0 records out\n",
            "104857600 bytes (105 MB, 100 MiB) copied, 0.215858 s, 486 MB/s\n",
            "mke2fs 1.44.1 (24-Mar-2018)\n",
            "Discarding device blocks:   1024/102400\b\b\b\b\b\b\b\b\b\b\b\b\b             \b\b\b\b\b\b\b\b\b\b\b\b\bdone                            \n",
            "Creating filesystem with 102400 1k blocks and 25688 inodes\n",
            "Filesystem UUID: 451f89fa-741c-4638-8e94-1df9a9b248f0\n",
            "Superblock backups stored on blocks: \n",
            "\t8193, 24577, 40961, 57345, 73729\n",
            "\n",
            "Allocating group tables:  0/13\b\b\b\b\b     \b\b\b\b\bdone                            \n",
            "Writing inode tables:  0/13\b\b\b\b\b     \b\b\b\b\bdone                            \n",
            "Writing superblocks and filesystem accounting information:  0/13\b\b\b\b\b     \b\b\b\b\bdone\n",
            "\n"
          ],
          "name": "stdout"
        }
      ]
    },
    {
      "cell_type": "code",
      "metadata": {
        "colab": {
          "base_uri": "https://localhost:8080/"
        },
        "id": "H_lwQ7yFv_vA",
        "outputId": "6d044c7c-dd71-4cd5-a4eb-f3488d6f738b"
      },
      "source": [
        "%cd /content/fs/disks/\n",
        "!dd if=/dev/zero of=colab.img count=50 bs=1M\n",
        "!fdisk colab.img\n"
      ],
      "execution_count": 76,
      "outputs": [
        {
          "output_type": "stream",
          "text": [
            "/content/fs/disks\n",
            "50+0 records in\n",
            "50+0 records out\n",
            "52428800 bytes (52 MB, 50 MiB) copied, 0.046065 s, 1.1 GB/s\n",
            "\u001b[32m\n",
            "Welcome to fdisk (util-linux 2.31.1).\n",
            "\u001b[0mChanges will remain in memory only, until you decide to write them.\n",
            "Be careful before using the write command.\n",
            "\n",
            "Device does not contain a recognized partition table.\n",
            "Created a new DOS disklabel with disk identifier 0x1e7131ab.\n",
            "\n",
            "Command (m for help): o\n",
            "Created a new DOS disklabel with disk identifier 0x19c4290b.\n",
            "\n",
            "Command (m for help): n\n",
            "Partition type\n",
            "   p   primary (0 primary, 0 extended, 4 free)\n",
            "   e   extended (container for logical partitions)\n",
            "Select (default p): \n",
            "\n",
            "Using default response p.\n",
            "Partition number (1-4, default 1): \n",
            "First sector (2048-102399, default 2048): \n",
            "Last sector, +sectors or +size{K,M,G,T,P} (2048-102399, default 102399): \n",
            "\n",
            "Created a new partition 1 of type 'Linux' and of size 49 MiB.\n",
            "\n",
            "Command (m for help): t\n",
            "Selected partition 1\n",
            "Hex code (type L to list all codes): c\n",
            "Changed type of partition 'Linux' to 'W95 FAT32 (LBA)'.\n",
            "\n",
            "Command (m for help): w\n",
            "The partition table has been altered.\n",
            "Syncing disks.\n",
            "\n"
          ],
          "name": "stdout"
        }
      ]
    },
    {
      "cell_type": "code",
      "metadata": {
        "id": "aaZ_-0rDw5BI"
      },
      "source": [
        "!fdisk colab.img"
      ],
      "execution_count": null,
      "outputs": []
    },
    {
      "cell_type": "code",
      "metadata": {
        "id": "Bgy7L5_kxYmJ"
      },
      "source": [
        "!apt-get install dosfstools"
      ],
      "execution_count": null,
      "outputs": []
    },
    {
      "cell_type": "code",
      "metadata": {
        "colab": {
          "base_uri": "https://localhost:8080/"
        },
        "id": "a4qRKE4_xSKo",
        "outputId": "2ee2f49a-4c27-44ce-b7a2-bc094f45e275"
      },
      "source": [
        "!mkfs.vfat colab.img "
      ],
      "execution_count": 77,
      "outputs": [
        {
          "output_type": "stream",
          "text": [
            "mkfs.fat 4.1 (2017-01-24)\n"
          ],
          "name": "stdout"
        }
      ]
    },
    {
      "cell_type": "code",
      "metadata": {
        "id": "Kw8hJUYv7VPy",
        "colab": {
          "base_uri": "https://localhost:8080/"
        },
        "outputId": "24929ba7-ec91-4066-c679-52e8dac89c13"
      },
      "source": [
        "%cd /content/fs/disks/\n",
        "#!dd if=/dev/zero of=teste.img bs=1M count=50\n",
        "#!mkfs ext4 -F teste.img\n",
        "#!mount -o loop teste.img /content/fs/disks\n",
        "#!mmd -i workloads.img ::/colab\n",
        "#!mmd -i teste.img ::/colab\n",
        "!mcopy -D o -i colab.img ./SUT ::\n"
      ],
      "execution_count": 79,
      "outputs": [
        {
          "output_type": "stream",
          "text": [
            "/content/fs/disks\n"
          ],
          "name": "stdout"
        }
      ]
    },
    {
      "cell_type": "code",
      "metadata": {
        "colab": {
          "base_uri": "https://localhost:8080/"
        },
        "id": "Vaqi2boq1oM4",
        "outputId": "f307381e-48bc-4bb8-ad62-a86f30af6640"
      },
      "source": [
        "%cd /content/fs/disks/\n",
        "!wget --no-check-certificate 'https://docs.google.com/uc?export=download&id=1zpajAS1HSKJGme6xDY4DyvtILdZUTOgI' -O colab.img"
      ],
      "execution_count": 56,
      "outputs": [
        {
          "output_type": "stream",
          "text": [
            "/content/fs/disks\n",
            "--2021-08-06 05:02:02--  https://docs.google.com/uc?export=download&id=1zpajAS1HSKJGme6xDY4DyvtILdZUTOgI\n",
            "Resolving docs.google.com (docs.google.com)... 74.125.142.139, 74.125.142.113, 74.125.142.102, ...\n",
            "Connecting to docs.google.com (docs.google.com)|74.125.142.139|:443... connected.\n",
            "HTTP request sent, awaiting response... 200 OK\n",
            "Length: unspecified [text/html]\n",
            "Saving to: ‘colab.img’\n",
            "\n",
            "colab.img               [ <=>                ]   3.16K  --.-KB/s    in 0s      \n",
            "\n",
            "2021-08-06 05:02:03 (38.0 MB/s) - ‘colab.img’ saved [3231]\n",
            "\n"
          ],
          "name": "stdout"
        }
      ]
    },
    {
      "cell_type": "code",
      "metadata": {
        "id": "EgRcGhLgsRia"
      },
      "source": [
        "#!apt-get install libguestfs-tools\n",
        "!apt-get update\n",
        "!apt-get install libguestfs-tools"
      ],
      "execution_count": null,
      "outputs": []
    },
    {
      "cell_type": "code",
      "metadata": {
        "colab": {
          "base_uri": "https://localhost:8080/"
        },
        "id": "SC7efNOjuHGA",
        "outputId": "7d13780c-47ca-446a-b761-05a1be24786a"
      },
      "source": [
        "!dpkg-statoverride --update --add root root 0644 /boot/vmlinuz-`uname -r`"
      ],
      "execution_count": null,
      "outputs": [
        {
          "output_type": "stream",
          "text": [
            "\u001b[1mdpkg-statoverride:\u001b[0m \u001b[1;33mwarning:\u001b[0m --update given but /boot/vmlinuz-5.4.104+ does not exist\n"
          ],
          "name": "stdout"
        }
      ]
    },
    {
      "cell_type": "code",
      "metadata": {
        "id": "LKxdNm_vhU4B"
      },
      "source": [
        "!cd /content/fs/disks/\n",
        "!guestmount -a teste.img -m /dev/VG/LV -m /dev/sda1:/boot --ro /mnt"
      ],
      "execution_count": null,
      "outputs": []
    },
    {
      "cell_type": "code",
      "metadata": {
        "colab": {
          "base_uri": "https://localhost:8080/"
        },
        "id": "eZSnEGzkxKLa",
        "outputId": "cf6130fd-4abe-4f39-a165-cbba7bc01734"
      },
      "source": [
        "!apt-get install ext4fuse"
      ],
      "execution_count": null,
      "outputs": [
        {
          "output_type": "stream",
          "text": [
            "Reading package lists... Done\n",
            "Building dependency tree       \n",
            "Reading state information... Done\n",
            "E: Unable to locate package ext4fuse\n"
          ],
          "name": "stdout"
        }
      ]
    },
    {
      "cell_type": "code",
      "metadata": {
        "colab": {
          "base_uri": "https://localhost:8080/"
        },
        "id": "C29QsXyNyB4q",
        "outputId": "448b19f7-da96-4a2a-c8ee-f6655a43679f"
      },
      "source": [
        "!apt-get install osxfuse"
      ],
      "execution_count": null,
      "outputs": [
        {
          "output_type": "stream",
          "text": [
            "Reading package lists... Done\n",
            "Building dependency tree       \n",
            "Reading state information... Done\n",
            "E: Unable to locate package osxfuse\n"
          ],
          "name": "stdout"
        }
      ]
    },
    {
      "cell_type": "code",
      "metadata": {
        "id": "iOR-mLHqx1oN"
      },
      "source": [
        "!guestfish --ro -a teste.img -i cat /etc/group"
      ],
      "execution_count": null,
      "outputs": []
    },
    {
      "cell_type": "code",
      "metadata": {
        "colab": {
          "base_uri": "https://localhost:8080/"
        },
        "id": "Fqq84A3U_Dit",
        "outputId": "86fd3ef6-99f4-4c8f-849a-79334d0934c8"
      },
      "source": [
        "%cd /content/fs/teste\n",
        "!wget \"https://github.com/gerard/ext4fuse/archive/refs/tags/v0.1.3.tar.gz\""
      ],
      "execution_count": null,
      "outputs": [
        {
          "output_type": "stream",
          "text": [
            "/content/fs/teste\n",
            "--2021-08-06 02:04:34--  https://github.com/gerard/ext4fuse/archive/refs/tags/v0.1.3.tar.gz\n",
            "Resolving github.com (github.com)... 140.82.114.4\n",
            "Connecting to github.com (github.com)|140.82.114.4|:443... connected.\n",
            "HTTP request sent, awaiting response... 302 Found\n",
            "Location: https://codeload.github.com/gerard/ext4fuse/tar.gz/refs/tags/v0.1.3 [following]\n",
            "--2021-08-06 02:04:34--  https://codeload.github.com/gerard/ext4fuse/tar.gz/refs/tags/v0.1.3\n",
            "Resolving codeload.github.com (codeload.github.com)... 140.82.113.10\n",
            "Connecting to codeload.github.com (codeload.github.com)|140.82.113.10|:443... connected.\n",
            "HTTP request sent, awaiting response... 200 OK\n",
            "Length: unspecified [application/x-gzip]\n",
            "Saving to: ‘v0.1.3.tar.gz’\n",
            "\n",
            "v0.1.3.tar.gz           [ <=>                ]  26.96K  --.-KB/s    in 0.01s   \n",
            "\n",
            "2021-08-06 02:04:34 (2.21 MB/s) - ‘v0.1.3.tar.gz’ saved [27604]\n",
            "\n"
          ],
          "name": "stdout"
        }
      ]
    },
    {
      "cell_type": "code",
      "metadata": {
        "colab": {
          "base_uri": "https://localhost:8080/"
        },
        "id": "BCSDJH08cJmC",
        "outputId": "7240476e-a54e-43c0-b196-7010b4c6a896"
      },
      "source": [
        "!sudo apt install pkg-config"
      ],
      "execution_count": null,
      "outputs": [
        {
          "output_type": "stream",
          "text": [
            "Reading package lists... Done\n",
            "Building dependency tree       \n",
            "Reading state information... Done\n",
            "pkg-config is already the newest version (0.29.1-0ubuntu2).\n",
            "0 upgraded, 0 newly installed, 0 to remove and 90 not upgraded.\n"
          ],
          "name": "stdout"
        }
      ]
    },
    {
      "cell_type": "code",
      "metadata": {
        "colab": {
          "base_uri": "https://localhost:8080/"
        },
        "id": "dj_J2PqSNK0L",
        "outputId": "8f675a68-e6ea-4ba8-ae3a-4e2c16336e03"
      },
      "source": [
        "%cd /content/fs/teste/ext4fuse-0.1.3\n",
        "!make"
      ],
      "execution_count": null,
      "outputs": [
        {
          "output_type": "stream",
          "text": [
            "/content/fs/teste/ext4fuse-0.1.3\n",
            "Package fuse was not found in the pkg-config search path.\n",
            "Perhaps you should add the directory containing `fuse.pc'\n",
            "to the PKG_CONFIG_PATH environment variable\n",
            "No package 'fuse' found\n",
            "cc  -DFUSE_USE_VERSION=26 -std=gnu99 -g3 -Wall -Wextra -DEXT4FUSE_VERSION=\\\"ext4fuse-0.1.3\\\"   -c -o fuse-main.o fuse-main.c\n",
            "\u001b[01m\u001b[Kfuse-main.c:14:10:\u001b[m\u001b[K \u001b[01;31m\u001b[Kfatal error: \u001b[m\u001b[Kfuse.h: No such file or directory\n",
            " #include \u001b[01;31m\u001b[K<fuse.h>\u001b[m\u001b[K\n",
            "          \u001b[01;31m\u001b[K^~~~~~~~\u001b[m\u001b[K\n",
            "compilation terminated.\n",
            "<builtin>: recipe for target 'fuse-main.o' failed\n",
            "make: *** [fuse-main.o] Error 1\n"
          ],
          "name": "stdout"
        }
      ]
    },
    {
      "cell_type": "code",
      "metadata": {
        "colab": {
          "base_uri": "https://localhost:8080/"
        },
        "id": "yGqYJ96QaOiO",
        "outputId": "1d9cc7dd-b735-4975-a064-8281eddf9df5"
      },
      "source": [
        "!/bin/bash -c \"$(curl -fsSL https://raw.githubusercontent.com/Homebrew/install/HEAD/install.sh)\""
      ],
      "execution_count": null,
      "outputs": [
        {
          "output_type": "stream",
          "text": [
            "\u001b[1;34m==>\u001b[1;39m Checking for `sudo` access (which may request your password).\u001b[0m\n",
            "\u001b[1;34m==>\u001b[1;39m This script will install:\u001b[0m\n",
            "/home/linuxbrew/.linuxbrew/bin/brew\n",
            "/home/linuxbrew/.linuxbrew/share/doc/homebrew\n",
            "/home/linuxbrew/.linuxbrew/share/man/man1/brew.1\n",
            "/home/linuxbrew/.linuxbrew/share/zsh/site-functions/_brew\n",
            "/home/linuxbrew/.linuxbrew/etc/bash_completion.d/brew\n",
            "/home/linuxbrew/.linuxbrew/Homebrew\n",
            "\u0007\n",
            "Press RETURN to continue or any other key to abort\n",
            "^C\n"
          ],
          "name": "stdout"
        }
      ]
    },
    {
      "cell_type": "code",
      "metadata": {
        "colab": {
          "base_uri": "https://localhost:8080/"
        },
        "id": "K8nATqGlcs8E",
        "outputId": "0cfa3390-a930-4e0c-aec4-8d0e079d2bd9"
      },
      "source": [
        "!brew cask install osxfuse"
      ],
      "execution_count": null,
      "outputs": [
        {
          "output_type": "stream",
          "text": [
            "/bin/bash: brew: command not found\n"
          ],
          "name": "stdout"
        }
      ]
    },
    {
      "cell_type": "code",
      "metadata": {
        "id": "0Y3WfuwoNXqC",
        "colab": {
          "base_uri": "https://localhost:8080/"
        },
        "cellView": "form",
        "outputId": "8405c97d-d765-4bbe-afef-3e594aefd4c3"
      },
      "source": [
        "#@title Export to Drive { form-width: \"30%\" }\n",
        "Mode = \"m5out\" #@param [\"gem5.fast\", \"m5out\", \"build\",\"stats\"]\n",
        "Archive_name = \"m5out11.zip\" #@param {type:\"string\"}\n",
        "\n",
        "#Mount Google Drive as folder\n",
        "from google.colab import drive\n",
        "drive.mount('/content/drive', force_remount=True)\n",
        "\n",
        "def zip_and_copy(path, mode):\n",
        "  zip_cmd=\"-r -q \"+Archive_name+\" \"\n",
        "  \n",
        "  %cd $path\n",
        "  zip_cmd+=mode\n",
        "  !zip $zip_cmd\n",
        "  copy_cmd = \" \"+Archive_name+\"  /content/drive/My\\ Drive/\"\n",
        "  !cp $copy_cmd\n",
        "  !rm $Archive_name\n",
        "\n",
        "if Mode == \"gem5.fast\":\n",
        "  !cp /content/gem5/build/ARM/gem5.fast /content/drive/My\\ Drive/\n",
        "elif Mode == \"m5out\":\n",
        "  zip_and_copy(\"/content/gem5\", \"m5out\")\n",
        "elif Mode == \"build\":\n",
        "  zip_and_copy(\"/content/gem5\", \"build\")\n",
        "elif Mode == \"stats\":\n",
        "  !cp /content/gem5/m5out/stats.txt /content/drive/My\\ Drive/\n",
        "\n",
        "  \n",
        "print(\"Done!\")\n"
      ],
      "execution_count": null,
      "outputs": [
        {
          "output_type": "stream",
          "text": [
            "Mounted at /content/drive\n",
            "/content/gem5\n",
            "Done!\n"
          ],
          "name": "stdout"
        }
      ]
    },
    {
      "cell_type": "code",
      "metadata": {
        "id": "0hIvJtxwTGcb"
      },
      "source": [
        "#@title Import from URL{ form-width: \"30%\", display-mode: \"form\" }\n",
        "URL = \"http://\" #@param {type:\"string\"}\n",
        "Mode = \"unzip to content\" #@param [\"unzip to content\", \"unzip to content/workspace\", \"unzip to content/workspace/data_src\", \"unzip to content/workspace/data_src/aligned\", \"unzip to content/workspace/data_dst\", \"unzip to content/workspace/data_dst/aligned\", \"unzip to content/workspace/model\", \"download to content/workspace\"]\n",
        "\n",
        "import urllib.request\n",
        "from pathlib import Path\n",
        "\n",
        "def unzip(zip_path, dest_path):\n",
        "\n",
        "    \n",
        "  unzip_cmd = \" unzip -q \" + zip_path + \" -d \"+dest_path\n",
        "  !$unzip_cmd  \n",
        "  rm_cmd = \"rm \"+dest_path + url_path.name\n",
        "  !$rm_cmd\n",
        "  print(\"Unziped!\")\n",
        "  \n",
        "\n",
        "if Mode == \"unzip to content\":\n",
        "  dest_path = \"/content/\"\n",
        "elif Mode == \"unzip to content/workspace\":\n",
        "  dest_path = \"/content/workspace/\"\n",
        "elif Mode == \"unzip to content/workspace/data_src\":\n",
        "  dest_path = \"/content/workspace/data_src/\"\n",
        "elif Mode == \"unzip to content/workspace/data_src/aligned\":\n",
        "  dest_path = \"/content/workspace/data_src/aligned/\"\n",
        "elif Mode == \"unzip to content/workspace/data_dst\":\n",
        "  dest_path = \"/content/workspace/data_dst/\"\n",
        "elif Mode == \"unzip to content/workspace/data_dst/aligned\":\n",
        "  dest_path = \"/content/workspace/data_dst/aligned/\"\n",
        "elif Mode == \"unzip to content/workspace/model\":\n",
        "  dest_path = \"/content/workspace/model/\"\n",
        "elif Mode == \"download to content/workspace\":\n",
        "  dest_path = \"/content/workspace/\"\n",
        "\n",
        "if not Path(\"/content/workspace\").exists():\n",
        "  cmd = \"mkdir /content/workspace; mkdir /content/workspace/data_src; mkdir /content/workspace/data_src/aligned; mkdir /content/workspace/data_dst; mkdir /content/workspace/data_dst/aligned; mkdir /content/workspace/model\"\n",
        "  !$cmd\n",
        "\n",
        "url_path = Path(URL)\n",
        "urllib.request.urlretrieve ( URL, dest_path + url_path.name )\n",
        "\n",
        "if (url_path.suffix == \".zip\") and (Mode!=\"download to content/workspace\"):\n",
        "  unzip(dest_path + url_path.name, dest_path)\n",
        "\n",
        "  \n",
        "print(\"Done!\")"
      ],
      "execution_count": null,
      "outputs": []
    },
    {
      "cell_type": "code",
      "metadata": {
        "id": "7V1sc7rxNKLO",
        "cellView": "form"
      },
      "source": [
        "#@title Export to URL\n",
        "URL = \"http://\" #@param {type:\"string\"}\n",
        "Mode = \"upload workspace\" #@param [\"upload workspace\", \"upload data_src\", \"upload data_dst\", \"upload data_src aligned\", \"upload data_dst aligned\", \"upload merged\", \"upload model\", \"upload result video\"]\n",
        "\n",
        "cmd_zip = \"zip -r -q \"\n",
        "\n",
        "def run_cmd(zip_path, curl_url):\n",
        "  cmd_zip = \"zip -r -q \"+zip_path\n",
        "  cmd_curl = \"curl --silent -F \"+curl_url+\" -D out.txt > /dev/null\"\n",
        "  !$cmd_zip\n",
        "  !$cmd_curl\n",
        "\n",
        "\n",
        "if Mode == \"upload workspace\":\n",
        "  %cd \"/content\"\n",
        "  run_cmd(\"workspace.zip workspace/\",\"'data=@/content/workspace.zip' \"+URL)\n",
        "elif Mode == \"upload data_src\":\n",
        "  %cd \"/content/workspace\"\n",
        "  run_cmd(\"data_src.zip data_src/\", \"'data=@/content/workspace/data_src.zip' \"+URL)\n",
        "elif Mode == \"upload data_dst\":\n",
        "  %cd \"/content/workspace\"\n",
        "  run_cmd(\"data_dst.zip data_dst/\", \"'data=@/content/workspace/data_dst.zip' \"+URL)\n",
        "elif Mode == \"upload data_src aligned\":\n",
        "  %cd \"/content/workspace\"\n",
        "  run_cmd(\"data_src_aligned.zip data_src/aligned\", \"'data=@/content/workspace/data_src_aligned.zip' \"+URL )\n",
        "elif Mode == \"upload data_dst aligned\":\n",
        "  %cd \"/content/workspace\"\n",
        "  run_cmd(\"data_dst_aligned.zip data_dst/aligned/\", \"'data=@/content/workspace/data_dst_aligned.zip' \"+URL)\n",
        "elif Mode == \"upload merged\":\n",
        "  %cd \"/content/workspace/data_dst\"\n",
        "  run_cmd(\"merged.zip merged/\",\"'data=@/content/workspace/data_dst/merged.zip' \"+URL )\n",
        "elif Mode == \"upload model\":\n",
        "  %cd \"/content/workspace\"\n",
        "  run_cmd(\"model.zip model/\", \"'data=@/content/workspace/model.zip' \"+URL)\n",
        "elif Mode == \"upload result video\":\n",
        "  %cd \"/content/workspace\"\n",
        "  run_cmd(\"result.zip result.mp4\", \"'data=@/content/workspace/result.zip' \"+URL)\n",
        "  \n",
        "  \n",
        "!rm *.zip\n",
        "\n",
        "%cd \"/content\"\n",
        "print(\"Done!\")"
      ],
      "execution_count": null,
      "outputs": []
    },
    {
      "cell_type": "code",
      "metadata": {
        "id": "Kq--kI-Hbb41",
        "cellView": "form"
      },
      "source": [
        "#@title Build simulation binary, slow.\n",
        "ISA = \"ARM\" #@param [\"ARM\", \"x86\", \"ALPHA\", \"MIPS\", \"RISCV\", \"POWER\"]\n",
        "%cd /content/gem5\n",
        "!/usr/bin/env python3 $(which scons) build/ARM/gem5.fast\n",
        "#!scons build/ARM/gem5.fast -j8\n",
        "\n"
      ],
      "execution_count": null,
      "outputs": []
    },
    {
      "cell_type": "markdown",
      "metadata": {
        "id": "tUNVcbujhm00"
      },
      "source": [
        "## Create simulation checkpoint\n",
        "* sudo mkdir /mnt/p2;sudo mount /dev/sdb /mnt/p2;cd /mnt/p2;./SUT;/sbin/m5 exit\n",
        "\n",
        "Checkpoint 1 - Hackback kernel\n",
        "\n",
        "Checkpoint 2 - Terminal\n",
        "\n",
        "Checkpoint 3 - Terminal execute ./SUT and exit\n"
      ]
    },
    {
      "cell_type": "code",
      "metadata": {
        "id": "VnBbMN5rT4VX",
        "cellView": "form"
      },
      "source": [
        "#@title Create Checkpoint\n",
        "\n",
        "#!cp /Library/Frameworks/Python.framework/Versions/3.7/lib/python3.7/site-packages/six.py /usr/local/lib/python3.7/site-packages\n",
        "%cd /content/gem5/\n",
        "!build/ARM/gem5.fast configs/example/fs.py --disk-image=linaro-minimal-aarch64.img --disk-image=workloads.img --kernel=vmlinux.vexpress_gem5_v1_64 --machine-type=VExpress_GEM5_V1 --dtb=armv8_gem5_v1_1cpu.dtb --cpu-type=AtomicSimpleCPU --num-cpus=1 --mem-type=LPDDR2_S4_1066_1x32 --mem-size=1GB --caches --l2cache --l2_size=512kB --l1i_size=16kB --l1d_size=16kB --cpu-clock=1.4GHz --sys-clock=1.4GHz --restore-with-cpu=HPI\n",
        "#!build/ARM/gem5.fast configs/example/fs.py --disk-image=linaro-minimal-aarch64.img --disk-image=workloads.img --kernel=vmlinux.vexpress_gem5_v1_64 --machine-type=VExpress_GEM5_V1 --dtb=armv8_gem5_v1_4cpu.dtb --cpu-type=AtomicSimpleCPU --num-cpus=4 --mem-type=LPDDR2_S4_1066_1x32 --mem-size=1GB --caches --l2cache --l2_size=512kB --l1i_size=16kB --l1d_size=16kB --cpu-clock=1.4GHz --sys-clock=1.4GHz --restore-with-cpu=HPI\n",
        "#!build/ARM/gem5.fast configs/example/fs.py --disk-image=linaro-minimal-aarch64.img --disk-image=workloads.img --kernel=vmlinux.vexpress_gem5_v1_64 --machine-type=VExpress_GEM5_V1 --dtb=armv8_gem5_v1_1cpu.dtb --cpu-type=AtomicSimpleCPU --num-cpus=1 --mem-type=LPDDR2_S4_1066_1x32 --mem-size=1GB --caches --l2cache --l2_size=512kB --l1i_size=16kB --l1d_size=16kB --cpu-clock=1.4GHz --sys-clock=1.4GHz --restore-with-cpu=HPI"
      ],
      "execution_count": null,
      "outputs": []
    },
    {
      "cell_type": "code",
      "metadata": {
        "id": "fb4KkHdHco41",
        "colab": {
          "base_uri": "https://localhost:8080/"
        },
        "outputId": "1a879420-e1d0-40c8-b86a-67c94a039b61"
      },
      "source": [
        "#@title Run simulation test\n",
        "%cd /content/gem5/\n",
        "!build/ARM/gem5.fast configs/example/fs.py --disk-image=linaro-minimal-aarch64.img --disk-image=colab.img --kernel=vmlinux.vexpress_gem5_v1_64 --machine-type=VExpress_GEM5_V1 --dtb=armv8_gem5_v1_1cpu.dtb --cpu-type=HPI --num-cpus=1 --mem-type=LPDDR2_S4_1066_1x32 --mem-size=1GB --caches --l2cache --l2_size=512kB --l1i_size=16kB --l1d_size=16kB --cpu-clock=1.4GHz --sys-clock=1.4GHz --restore-with-cpu=HPI -r 2"
      ],
      "execution_count": 82,
      "outputs": [
        {
          "output_type": "stream",
          "text": [
            "/content/gem5\n",
            "build/ARM/base/statistics.hh:277: warn: One of the stats is a legacy stat. Legacy stat is a stat that does not belong to any statistics::Group. Legacy stat is deprecated.\n",
            "gem5 Simulator System.  http://gem5.org\n",
            "gem5 is copyrighted software; use the --copyright option for details.\n",
            "\n",
            "gem5 version 21.1.0.0\n",
            "gem5 compiled Aug  5 2021 20:10:14\n",
            "gem5 started Aug  6 2021 05:30:14\n",
            "gem5 executing on 09860a2ef714, pid 5189\n",
            "command line: build/ARM/gem5.fast configs/example/fs.py --disk-image=linaro-minimal-aarch64.img --disk-image=colab.img --kernel=vmlinux.vexpress_gem5_v1_64 --machine-type=VExpress_GEM5_V1 --dtb=armv8_gem5_v1_1cpu.dtb --cpu-type=HPI --num-cpus=1 --mem-type=LPDDR2_S4_1066_1x32 --mem-size=1GB --caches --l2cache --l2_size=512kB --l1i_size=16kB --l1d_size=16kB --cpu-clock=1.4GHz --sys-clock=1.4GHz --restore-with-cpu=HPI -r 2\n",
            "\n",
            "warn: iobus.slave is deprecated. `slave` is now called `cpu_side_ports`\n",
            "warn: bridge.master is deprecated. `master` is now called `mem_side_port`\n",
            "warn: membus.master is deprecated. `master` is now called `mem_side_ports`\n",
            "warn: bridge.slave is deprecated. `slave` is now called `cpu_side_port`\n",
            "warn: membus.slave is deprecated. `slave` is now called `cpu_side_ports`\n",
            "warn: iobus.master is deprecated. `master` is now called `mem_side_ports`\n",
            "warn: membus.slave is deprecated. `slave` is now called `cpu_side_ports`\n",
            "warn: tol2bus.master is deprecated. `master` is now called `mem_side_ports`\n",
            "warn: membus.slave is deprecated. `slave` is now called `cpu_side_ports`\n",
            "warn: tol2bus.slave is deprecated. `slave` is now called `cpu_side_ports`\n",
            "warn: tol2bus.slave is deprecated. `slave` is now called `cpu_side_ports`\n",
            "warn: tol2bus.slave is deprecated. `slave` is now called `cpu_side_ports`\n",
            "warn: tol2bus.slave is deprecated. `slave` is now called `cpu_side_ports`\n",
            "Global frequency set at 1000000000000 ticks per second\n",
            "build/ARM/mem/mem_interface.cc:793: warn: DRAM device capacity (512 Mbytes) does not match the address range assigned (1024 Mbytes)\n",
            "build/ARM/sim/kernel_workload.cc:46: info: kernel located at: /content/fs/binaries/vmlinux.vexpress_gem5_v1_64\n",
            "build/ARM/base/statistics.hh:277: warn: One of the stats is a legacy stat. Legacy stat is a stat that does not belong to any statistics::Group. Legacy stat is deprecated.\n",
            "build/ARM/cpu/minor/execute.cc:172: warn: No functional unit for OpClass SimdDiv\n",
            "build/ARM/cpu/minor/execute.cc:172: warn: No functional unit for OpClass SimdReduceAdd\n",
            "build/ARM/cpu/minor/execute.cc:172: warn: No functional unit for OpClass SimdReduceAlu\n",
            "build/ARM/cpu/minor/execute.cc:172: warn: No functional unit for OpClass SimdReduceCmp\n",
            "build/ARM/cpu/minor/execute.cc:172: warn: No functional unit for OpClass SimdFloatReduceAdd\n",
            "build/ARM/cpu/minor/execute.cc:172: warn: No functional unit for OpClass SimdFloatReduceCmp\n",
            "build/ARM/cpu/minor/execute.cc:172: warn: No functional unit for OpClass SimdAes\n",
            "build/ARM/cpu/minor/execute.cc:172: warn: No functional unit for OpClass SimdAesMix\n",
            "build/ARM/cpu/minor/execute.cc:172: warn: No functional unit for OpClass SimdSha1Hash\n",
            "build/ARM/cpu/minor/execute.cc:172: warn: No functional unit for OpClass SimdSha1Hash2\n",
            "build/ARM/cpu/minor/execute.cc:172: warn: No functional unit for OpClass SimdSha256Hash\n",
            "build/ARM/cpu/minor/execute.cc:172: warn: No functional unit for OpClass SimdSha256Hash2\n",
            "build/ARM/cpu/minor/execute.cc:172: warn: No functional unit for OpClass SimdShaSigma2\n",
            "build/ARM/cpu/minor/execute.cc:172: warn: No functional unit for OpClass SimdShaSigma3\n",
            "build/ARM/cpu/minor/execute.cc:172: warn: No functional unit for OpClass SimdPredAlu\n",
            "system.vncserver: Listening for connections on port 5900\n",
            "system.terminal: Listening for connections on port 3456\n",
            "system.realview.uart1.device: Listening for connections on port 3457\n",
            "system.realview.uart2.device: Listening for connections on port 3458\n",
            "system.realview.uart3.device: Listening for connections on port 3459\n",
            "0: system.remote_gdb: listening for remote gdb on port 7000\n",
            "build/ARM/sim/serialize.hh:364: warn: optional parameter system.cpu:lastStopped not present\n",
            "**** REAL SIMULATION ****\n",
            "build/ARM/dev/arm/energy_ctrl.cc:252: warn: Existing EnergyCtrl, but no enabled DVFSHandler found.\n",
            "build/ARM/sim/simulate.cc:107: info: Entering event queue @ 6612574733814.  Starting simulation...\n",
            "build/ARM/arch/arm/isa.hh:658: warn: User mode does not have SPSR\n",
            "build/ARM/arch/arm/isa.hh:658: warn: User mode does not have SPSR\n",
            "Exiting @ tick 6894048371448 because m5_exit instruction encountered\n"
          ],
          "name": "stdout"
        }
      ]
    },
    {
      "cell_type": "markdown",
      "metadata": {
        "id": "WTuyUxgdLA13"
      },
      "source": [
        "## Run simulation\n",
        "\n",
        "* Select parameters and run simulation with desired checkpoint"
      ]
    },
    {
      "cell_type": "code",
      "metadata": {
        "id": "qwJEbz5Nhot0",
        "cellView": "form"
      },
      "source": [
        "#@title Choose architecture and parameters\n",
        "\n",
        "CPU_cores= \"1\" #@param {type:\"string\"} \n",
        "CPU_frequency= \"1.4GHz\" #@param {type:\"string\"}\n",
        "L1_Icache= \"16kB\" #@param {type:\"string\"}\n",
        "L1_Dcache= \"16kB\" #@param {type:\"string\"}\n",
        "L2_cache= \"512kB\" #@param {type:\"string\"}\n",
        "\n",
        "\n",
        "%cd \"/content\"\n",
        "\n",
        "\n",
        "!python $cmd"
      ],
      "execution_count": null,
      "outputs": []
    },
    {
      "cell_type": "code",
      "metadata": {
        "id": "d8OJnXHYaKBY",
        "cellView": "form"
      },
      "source": [
        "#@title List CPU models\n",
        "import psutil, os, time\n",
        "p = psutil.Process(os.getpid())\n",
        "uptime = time.time() - p.create_time()\n",
        "print(\"Time to end session: \"+str(round((43200-uptime)/3600))+\" hours\")\n",
        "%cd /content/gem5/\n",
        "!build/ARM/gem5.fast configs/example/fs.py --list-cpu-types"
      ],
      "execution_count": null,
      "outputs": []
    },
    {
      "cell_type": "code",
      "metadata": {
        "id": "kN6S6Cpgt07I",
        "cellView": "form"
      },
      "source": [
        "#@title Run Simulation with control.rcS script\n",
        "import psutil, os, time\n",
        "p = psutil.Process(os.getpid())\n",
        "uptime = time.time() - p.create_time()\n",
        "print(\"Time to end session: \"+str(round((43200-uptime)/3600))+\" hours\")\n",
        "#!cp /Library/Frameworks/Python.framework/Versions/3.7/lib/python3.7/site-packages/six.py /usr/local/lib/python3.7/site-packages\n",
        "%cd /content/gem5/\n",
        "\n",
        "#Run simulation 4cpu hackback\n",
        "#!build/ARM/gem5.fast configs/example/fs.py --disk-image=linaro-minimal-aarch64.img --disk-image=workloads.img --kernel=vmlinux.vexpress_gem5_v1_64 --machine-type=VExpress_GEM5_V1 --dtb=armv8_gem5_v1_4cpu.dtb --cpu-type=HPI --num-cpus=4 --mem-type=LPDDR2_S4_1066_1x32 --mem-size=1GB --caches --l2cache --l2_size=512kB --l1i_size=16kB --l1d_size=16kB --cpu-clock=1.4GHz --sys-clock=1.4GHz --restore-with-cpu=HPI --script=control.rcS -r 1\n",
        "\n",
        "#Run simulation 1cpu hackback\n",
        "#!build/ARM/gem5.fast configs/example/fs.py --disk-image=linaro-minimal-aarch64.img --disk-image=workloads.img --kernel=vmlinux.vexpress_gem5_v1_64 --machine-type=VExpress_GEM5_V1 --dtb=armv8_gem5_v1_1cpu.dtb --cpu-type=HPI --num-cpus=1 --mem-type=LPDDR2_S4_1066_1x32 --mem-size=1GB --caches --l2cache --l2_size=512kB --l1i_size=16kB --l1d_size=16kB --cpu-clock=1.4GHz --sys-clock=1.4GHz --restore-with-cpu=HPI --script=control.rcS -r 1\n",
        "\n",
        "#Run simulation 4cpu fully booted system \n",
        "#!build/ARM/gem5.fast configs/example/fs.py --disk-image=linaro-minimal-aarch64.img --disk-image=workloads.img --kernel=vmlinux.vexpress_gem5_v1_64 --machine-type=VExpress_GEM5_V1 --dtb=armv8_gem5_v1_4cpu.dtb --cpu-type=HPI --num-cpus=4 --mem-type=LPDDR2_S4_1066_1x32 --mem-size=1GB --caches --l2cache --l2_size=512kB --l1i_size=16kB --l1d_size=16kB --cpu-clock=1.4GHz --sys-clock=1.4GHz --restore-with-cpu=HPI --script=control.rcS -r 4\n",
        "#!build/ARM/gem5.fast configs/example/fs.py --disk-image=linaro-minimal-aarch64.img --disk-image=workloads.img --kernel=vmlinux.vexpress_gem5_v1_64 --machine-type=VExpress_GEM5_V1 --dtb=armv8_gem5_v1_4cpu.dtb --cpu-type=HPI --num-cpus=4 --mem-type=LPDDR2_S4_1066_1x32 --mem-size=1GB --caches --l2cache --l2_size=512kB --l1i_size=16kB --l1d_size=16kB --cpu-clock=1.4GHz --sys-clock=1.4GHz --restore-with-cpu=HPI --script=control.rcS -r 5 \n",
        "\n",
        "#Run simulation 1cpu fully booted system \n",
        "!build/ARM/gem5.fast configs/example/fs.py --disk-image=linaro-minimal-aarch64.img --disk-image=workloads.img --kernel=vmlinux.vexpress_gem5_v1_64 --machine-type=VExpress_GEM5_V1 --dtb=armv8_gem5_v1_1cpu.dtb --cpu-type=HPI --num-cpus=1 --mem-type=LPDDR2_S4_1066_1x32 --mem-size=1GB --caches --l2cache --l2_size=512kB --l1i_size=16kB --l1d_size=16kB --cpu-clock=1.4GHz --sys-clock=1.4GHz --restore-with-cpu=HPI -r 3\n",
        "\n",
        "\n",
        "#!build/ARM/gem5.fast configs/example/fs.py --disk-image=linaro-minimal-aarch64.img --disk-image=workloads.img --kernel=vmlinux.vexpress_gem5_v1_64 --machine-type=VExpress_GEM5_V1 --dtb=armv8_gem5_v1_1cpu.dtb --cpu-type=AtomicSimpleCPU --num-cpus=1 --mem-type=LPDDR2_S4_1066_1x32 --mem-size=1GB --caches --l2cache --l2_size=512kB --l1i_size=16kB --l1d_size=16kB --cpu-clock=1.4GHz --sys-clock=1.4GHz --restore-with-cpu=HPI\n",
        "\n",
        "\n",
        "\n"
      ],
      "execution_count": null,
      "outputs": []
    },
    {
      "cell_type": "markdown",
      "metadata": {
        "id": "GgxAx-qAXD0F"
      },
      "source": [
        "## SSH into colab"
      ]
    },
    {
      "cell_type": "code",
      "metadata": {
        "cellView": "form",
        "id": "c5Iw87jB8F0s",
        "colab": {
          "base_uri": "https://localhost:8080/"
        },
        "outputId": "4f5074ba-585b-4310-fd1a-01286a402eba"
      },
      "source": [
        "#@title  SSH into Colab\n",
        "import random, string, urllib.request, json, getpass\n",
        "\n",
        "#Generate root password\n",
        "password = ''.join(random.choice(string.ascii_letters + string.digits) for i in range(20))\n",
        "\n",
        "#Download ngrok\n",
        "! wget -q -c -nc https://bin.equinox.io/c/4VmDzA7iaHb/ngrok-stable-linux-amd64.zip\n",
        "! unzip -qq -n ngrok-stable-linux-amd64.zip\n",
        "\n",
        "#Setup sshd\n",
        "! apt-get install -qq -o=Dpkg::Use-Pty=0 openssh-server pwgen > /dev/null\n",
        "\n",
        "#Set root password\n",
        "! echo root:$password | chpasswd\n",
        "! mkdir -p /var/run/sshd\n",
        "! echo \"PermitRootLogin yes\" >> /etc/ssh/sshd_config\n",
        "! echo \"PasswordAuthentication yes\" >> /etc/ssh/sshd_config\n",
        "! echo \"LD_LIBRARY_PATH=/usr/lib64-nvidia\" >> /root/.bashrc\n",
        "! echo \"export LD_LIBRARY_PATH\" >> /root/.bashrc\n",
        "\n",
        "#Run sshd\n",
        "get_ipython().system_raw('/usr/sbin/sshd -D &')\n",
        "\n",
        "#Ask token\n",
        "print(\"Copy authtoken from https://dashboard.ngrok.com/auth\")\n",
        "authtoken = getpass.getpass()\n",
        "print(f'Root password: {password}')\n",
        "#Create tunnel\n",
        "get_ipython().system_raw('./ngrok authtoken $authtoken && ./ngrok tcp 22 &')\n",
        "\n",
        "#Get public address and print connect command\n",
        "with urllib.request.urlopen('http://localhost:4040/api/tunnels') as response:\n",
        "  data = json.loads(response.read().decode())\n",
        "  (host, port) = data['tunnels'][0]['public_url'][6:].split(':')\n",
        "  print(f'SSH command: ssh -p{port} root@{host}')\n",
        "\n",
        "#Print root password\n",
        "print(f'Root password: {password}')"
      ],
      "execution_count": null,
      "outputs": [
        {
          "output_type": "stream",
          "text": [
            "Copy authtoken from https://dashboard.ngrok.com/auth\n",
            "··········\n",
            "Root password: DpvNRdQnS7q32oz8CbwA\n",
            "SSH command: ssh -p19818 root@2.tcp.ngrok.io\n",
            "Root password: DpvNRdQnS7q32oz8CbwA\n"
          ],
          "name": "stdout"
        }
      ]
    },
    {
      "cell_type": "code",
      "metadata": {
        "id": "x6c9bG8w8-d4"
      },
      "source": [
        "! curl -s http://localhost:4040/api/tunnels"
      ],
      "execution_count": null,
      "outputs": []
    },
    {
      "cell_type": "code",
      "metadata": {
        "id": "dI7xTU-tbyT3"
      },
      "source": [
        "!build/ARM/gem5.fast configs/example/fs.py --disk-image=linaro-minimal-aarch64.img --disk-image=workloads.img --kernel=vmlinux.vexpress_gem5_v1_64 --machine-type=VExpress_GEM5_V1 --dtb=armv8_gem5_v1_4cpu.dtb --cpu-type=HPI --num-cpus=4 --mem-type=LPDDR2_S4_1066_1x32 --mem-size=1GB --caches --l2cache --l2_size=512kB --l1i_size=16kB --l1d_size=16kB --cpu-clock=1.4GHz --sys-clock=1.4GHz --restore-with-cpu=HPI --script=control.rcS -r 1 "
      ],
      "execution_count": null,
      "outputs": []
    },
    {
      "cell_type": "code",
      "metadata": {
        "id": "fyEs5qEJmRwF"
      },
      "source": [
        "!free -m"
      ],
      "execution_count": null,
      "outputs": []
    }
  ]
}