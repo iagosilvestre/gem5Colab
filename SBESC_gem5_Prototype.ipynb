{
  "nbformat": 4,
  "nbformat_minor": 0,
  "metadata": {
    "colab": {
      "name": "SBESC gem5 Prototype.ipynb",
      "provenance": [],
      "collapsed_sections": [
        "JuVn21kt40Gw",
        "hqwOlJG4MdLC"
      ],
      "include_colab_link": true
    },
    "kernelspec": {
      "name": "python3",
      "display_name": "Python 3"
    }
  },
  "cells": [
    {
      "cell_type": "markdown",
      "metadata": {
        "id": "view-in-github",
        "colab_type": "text"
      },
      "source": [
        "<a href=\"https://colab.research.google.com/github/iagosilvestre/Gerenciador-de-Ocorrencia/blob/master/SBESC_gem5_Prototype.ipynb\" target=\"_parent\"><img src=\"https://colab.research.google.com/assets/colab-badge.svg\" alt=\"Open In Colab\"/></a>"
      ]
    },
    {
      "cell_type": "markdown",
      "metadata": {
        "id": "x2FxRnpxyXh6"
      },
      "source": [
        ""
      ]
    },
    {
      "cell_type": "markdown",
      "metadata": {
        "id": "0cKdTCuv4tXh"
      },
      "source": [
        "# gem5 Prototype!\n",
        "\n",
        "This is visual prototype for gem5 for google colab.\n",
        "\n",
        "\n",
        "# Overview\n",
        "*   Install dependencies and gem5 simulation tool.\n",
        "*   Import the control program under test from google drive.\n",
        "*   Create simulation checkpoints.(not necessary)\n",
        "*   Run simulation.oi\n",
        "*   Export results to drive\n",
        "\n"
      ]
    },
    {
      "cell_type": "markdown",
      "metadata": {
        "id": "JuVn21kt40Gw"
      },
      "source": [
        "## Install or update gem5\n",
        "\n",
        "* Install or update gem5 directly from Github\n",
        "* Requirements install is automatically\n",
        "* Automatically sets timer to prevent random disconnects\n"
      ]
    },
    {
      "cell_type": "code",
      "metadata": {
        "id": "JG-f2WqT4fLK",
        "cellView": "form"
      },
      "source": [
        "#@title Install or update gem5 from Github\n",
        "\n",
        "Mode = \"install\" #@param [\"install\", \"update\"]\n",
        "#Download_ = False #@param {type:\"boolean\"}\n",
        "\n",
        "\n",
        "from pathlib import Path\n",
        "if (Mode == \"install\"):\n",
        "  !apt-get install build-essential\n",
        "  !apt-get install git\n",
        "  !apt-get install scons\n",
        "  !apt-get install zlib1g\n",
        "  !apt-get install zlib1g-dev\n",
        "  !apt-get install libprotobuf-dev\n",
        "  !apt-get install protobuf-compiler\n",
        "  !apt-get install libprotoc-dev\n",
        "  !sudo apt-get install python3 python3-six python3-pydot\n",
        "  !apt-get install libgoogle-perftools-dev\n",
        "  !apt-get install python-dev\n",
        "  !apt-get install python\n",
        "  !apt-get install gcc-arm\n",
        "  !apt-get install libeigen3-dev\n",
        "  !apt-get install g++-arm-linux-gnueabi\n",
        "  !apt-get install automake\n",
        "  !apt-get install python-six\n",
        "  !apt install python3-six\n",
        "  !apt install unzip\n",
        "  !sudo apt-get install telnet\n",
        "  !mkdir /content/fs  \n",
        "  !mkdir /content/fs/disks\n",
        "  !mkdir /content/fs/binaries\n",
        "  !git clone https://gem5.googlesource.com/public/gem5\n",
        "  !git clone https://github.com/iagosilvestre/ProVANT-Control-Test-gem5\n",
        "  !cp /content/ProVANT-Control-Test-gem5/gem5.fast /content/gem5/build/ARM\n",
        "  !cp /content/ProVANT-Control-Test-gem5/workloads.img /content/fs/disks\n",
        "  !cp /content/ProVANT-Control-Test-gem5/boot.arm64 /content/fs/binaries/\n",
        "  !cp /content/gem5/configs/boot/hack_back_ckpt.rcS /content/gem5/\n",
        "  %env GEM5_PATH=/content/gem5\n",
        "  %env M5_PATH=/content/fs/\n",
        "  %cd /content/fs/\n",
        "  !wget \"http://www.m5sim.org/dist/current/arm/aarch-system-20180409.tar.xz\"\n",
        "  !tar xf aarch-system-20180409.tar.xz\n",
        "  %cd /content/fs/disks/\n",
        "  !wget --load-cookies /tmp/cookies.txt \"https://docs.google.com/uc?export=download&confirm=$(wget --quiet --save-cookies /tmp/cookies.txt --keep-session-cookies --no-check-certificate 'https://docs.google.com/uc?export=download&id=1_qt0Wsdi2od9MZqaWDUWlfZzY19Qha7d' -O- | sed -rn 's/.*confirm=([0-9A-Za-z_]+).*/\\1\\n/p')&id=1_qt0Wsdi2od9MZqaWDUWlfZzY19Qha7d\" -O linaro-minimal-aarch64.img && rm -rf /tmp/cookies.txt\n",
        "  !wget --no-check-certificate 'https://docs.google.com/uc?export=download&id=1ciSPByowaMEbm73i5yQN9NmXnbeC9T5C' -O workloads.img\n",
        "  %cd /content/gem5/\n",
        "  !wget --load-cookies /tmp/cookies.txt \"https://docs.google.com/uc?export=download&confirm=$(wget --quiet --save-cookies /tmp/cookies.txt --keep-session-cookies --no-check-certificate 'https://docs.google.com/uc?export=download&id=1d506v_eb0fSJkWhUcSOc8VTV6vCRsATz' -O- | sed -rn 's/.*confirm=([0-9A-Za-z_]+).*/\\1\\n/p')&id=1d506v_eb0fSJkWhUcSOc8VTV6vCRsATz\" -O build3.zip && rm -rf /tmp/cookies.txt\n",
        "  !unzip build3.zip\n",
        "  #!wget --load-cookies /tmp/cookies.txt \"https://docs.google.com/uc?export=download&confirm=$(wget --quiet --save-cookies /tmp/cookies.txt --keep-session-cookies --no-check-certificate 'https://docs.google.com/uc?export=download&id=1QPfQaNFYNeHC-L_lN5qUYWEb4OI4--vG' -O- | sed -rn 's/.*confirm=([0-9A-Za-z_]+).*/\\1\\n/p')&id=1QPfQaNFYNeHC-L_lN5qUYWEb4OI4--vG\" -O build.zip && rm -rf /tmp/cookies.txt\n",
        "  #!unzip build.zip\n",
        "  #!wget --no-check-certificate 'https://docs.google.com/uc?export=download&id=1-2WRGjl5uwj_NfIXW1VbLbocDQqFGe2N' -O m5out.zip\n",
        "  #!unzip m5out.zip\n",
        "\n",
        "\n",
        "  #!wget --load-cookies /tmp/cookies.txt \"https://docs.google.com/uc?export=download&confirm=$(wget --quiet --save-cookies /tmp/cookies.txt --keep-session-cookies --no-check-certificate 'https://docs.google.com/uc?export=download&id=1--f9tLUop4WrYGMtpUPbxGKNDAFoaaSA' -O- | sed -rn 's/.*confirm=([0-9A-Za-z_]+).*/\\1\\n/p')&id=1--f9tLUop4WrYGMtpUPbxGKNDAFoaaSA\" -O build2.zip && rm -rf /tmp/cookies.txt\n",
        "  #!unzip build2.zip\n",
        "  #!wget --load-cookies /tmp/cookies.txt \"https://docs.google.com/uc?export=download&confirm=$(wget --quiet --save-cookies /tmp/cookies.txt --keep-session-cookies --no-check-certificate 'https://docs.google.com/uc?export=download&id=1d506v_eb0fSJkWhUcSOc8VTV6vCRsATz' -O- | sed -rn 's/.*confirm=([0-9A-Za-z_]+).*/\\1\\n/p')&id=1d506v_eb0fSJkWhUcSOc8VTV6vCRsATz\" -O build3.zip && rm -rf /tmp/cookies.txt\n",
        "  #!unzip build3.zip\n",
        "  \n",
        "  #!wget --no-check-certificate 'https://docs.google.com/uc?export=download&id=1--iCvnMSpU71mU9ZV0-4BTZhXj3K9atf' -O m5out2.zip\n",
        "  #!wget --no-check-certificate 'https://docs.google.com/uc?export=download&id=1-4iu-ndRn3JsYOSwccrhH9uvoQzvJfqO' -O m5out4.zip\n",
        "  #!wget --load-cookies /tmp/cookies.txt \"https://docs.google.com/uc?export=download&confirm=$(wget --quiet --save-cookies /tmp/cookies.txt --keep-session-cookies --no-check-certificate 'https://docs.google.com/uc?export=download&id=1-4iu-ndRn3JsYOSwccrhH9uvoQzvJfqO' -O- | sed -rn 's/.*confirm=([0-9A-Za-z_]+).*/\\1\\n/p')&id=1-4iu-ndRn3JsYOSwccrhH9uvoQzvJfqO\" -O m5out4.zip && rm -rf /tmp/cookies.txt\n",
        "  #!unzip m5out4.zip\n",
        "  \n",
        "  #!wget --load-cookies /tmp/cookies.txt \"https://docs.google.com/uc?export=download&confirm=$(wget --quiet --save-cookies /tmp/cookies.txt --keep-session-cookies --no-check-certificate 'https://docs.google.com/uc?export=download&id=1-PQOWPs280WvuG68Dcdq4UB7yb182AMR' -O- | sed -rn 's/.*confirm=([0-9A-Za-z_]+).*/\\1\\n/p')&id=1-PQOWPs280WvuG68Dcdq4UB7yb182AMR\" -O m5out7.zip && rm -rf /tmp/cookies.txt\n",
        "  #!unzip m5out7.zip\n",
        "  #!wget --load-cookies /tmp/cookies.txt \"https://docs.google.com/uc?export=download&confirm=$(wget --quiet --save-cookies /tmp/cookies.txt --keep-session-cookies --no-check-certificate 'https://docs.google.com/uc?export=download&id=1-6dMU0tNay4aHur69QjAv_DHNjhnipCb' -O- | sed -rn 's/.*confirm=([0-9A-Za-z_]+).*/\\1\\n/p')&id=1-6dMU0tNay4aHur69QjAv_DHNjhnipCb\" -O m5out9.zip && rm -rf /tmp/cookies.txt\n",
        "  #!unzip m5out9.zip\n",
        "  !wget --load-cookies /tmp/cookies.txt \"https://docs.google.com/uc?export=download&confirm=$(wget --quiet --save-cookies /tmp/cookies.txt --keep-session-cookies --no-check-certificate 'https://docs.google.com/uc?export=download&id=1KMjirvm5GH7yYSlAaZ0i8UFbYAm5qaRQ' -O- | sed -rn 's/.*confirm=([0-9A-Za-z_]+).*/\\1\\n/p')&id=1KMjirvm5GH7yYSlAaZ0i8UFbYAm5qaRQ\" -O m5out10.zip && rm -rf /tmp/cookies.txt\n",
        "  !unzip m5out10.zip\n",
        "\n",
        "  !wget --no-check-certificate 'https://docs.google.com/uc?export=download&id=1gicCC6aEZpes9TGwVD5sb14F5TSlrG0q' -O control.rcS\n",
        "  #%cd /content/gem5/m5out/\n",
        "  #!wget --no-check-certificate 'https://docs.google.com/uc?export=download&id=1m631XqXoDS-uzgT_QfzWeMTnr0i2QBJv' -O cpt.zip\n",
        "  #!unzip cpt.zip\n",
        "else:\n",
        "  %cd /content/gem5\n",
        "  !git pull\n",
        "  %cd /content/ProVANT-Control-Test-gem5\n",
        "  !git pull\n",
        "  !cp /content/ProVANT-Control-Test-gem5/control.rcS /content/gem5/\n",
        "  %cd /content/\n",
        "\n",
        "print(\"\\nDone!\")"
      ],
      "execution_count": null,
      "outputs": []
    },
    {
      "cell_type": "code",
      "metadata": {
        "id": "SExTVqthpbMQ"
      },
      "source": [
        "%cd /content/gem5/\n",
        "!wget --load-cookies /tmp/cookies.txt \"https://docs.google.com/uc?export=download&confirm=$(wget --quiet --save-cookies /tmp/cookies.txt --keep-session-cookies --no-check-certificate 'https://docs.google.com/uc?export=download&id=1d506v_eb0fSJkWhUcSOc8VTV6vCRsATz' -O- | sed -rn 's/.*confirm=([0-9A-Za-z_]+).*/\\1\\n/p')&id=1d506v_eb0fSJkWhUcSOc8VTV6vCRsATz\" -O build3.zip && rm -rf /tmp/cookies.txt\n",
        "!unzip build3.zip"
      ],
      "execution_count": null,
      "outputs": []
    },
    {
      "cell_type": "markdown",
      "metadata": {
        "id": "hqwOlJG4MdLC"
      },
      "source": [
        "## Manage workspace\n",
        "\n",
        "*   You can build a gem5 simulation binary for a specific ISA, however default installation already imports the ARM architecture.\n",
        "*   You can import/export workspace\n",
        "*   Also, you can use HFS (HTTP Fileserver) for directly import/export you workspace from your computer\n",
        "*   You can clear all workspace or delete part of it\n",
        "\n"
      ]
    },
    {
      "cell_type": "code",
      "metadata": {
        "id": "z4w_sUzgOQmL",
        "colab": {
          "base_uri": "https://localhost:8080/"
        },
        "cellView": "form",
        "outputId": "2b17f637-4ad8-40a8-827d-4af4d1ca7a68"
      },
      "source": [
        "#@title Import from Drive\n",
        "\n",
        "Mode = \"workloads\" #@param [\"gem5.fast\",\"m5out\",\"build\",\"workloads\"]\n",
        "#Archive_name = \"workspace.zip\" #@param {type:\"string\"}\n",
        "\n",
        "#Mount Google Drive as folder\n",
        "from google.colab import drive\n",
        "drive.mount('/content/drive', force_remount=True)\n",
        "\n",
        "def zip_and_copy(path, mode):\n",
        "  unzip_cmd=\" -q \"+Archive_name\n",
        "  \n",
        "  %cd $path\n",
        "  copy_cmd = \"/content/drive/My\\ Drive/\"+Archive_name+\" \"+path\n",
        "  !cp $copy_cmd\n",
        "  !unzip $unzip_cmd    \n",
        "  !rm $Archive_name\n",
        "\n",
        "if Mode == \"gem5.fast\":\n",
        "  !cp /content/drive/My\\ Drive/gem5.fast /content/gem5/build/ARM/\n",
        "elif Mode == \"m5out\":\n",
        "  zip_and_copy(\"/content/gem5\", \"m5out\")\n",
        "elif Mode == \"build\":\n",
        "  zip_and_copy(\"/content/gem5\", \"build\")\n",
        "elif Mode == \"workloads\":\n",
        "  !cp /content/drive/My\\ Drive/workloads.img /content/fs/disks/\n",
        "  \n",
        "print(\"Done!\")\n",
        "\n"
      ],
      "execution_count": null,
      "outputs": [
        {
          "output_type": "stream",
          "text": [
            "Mounted at /content/drive\n",
            "Done!\n"
          ],
          "name": "stdout"
        }
      ]
    },
    {
      "cell_type": "code",
      "metadata": {
        "id": "0Y3WfuwoNXqC",
        "colab": {
          "base_uri": "https://localhost:8080/"
        },
        "cellView": "form",
        "outputId": "9102a6ff-d8f6-40e3-dbc7-3b148f9a9f57"
      },
      "source": [
        "#@title Export to Drive { form-width: \"30%\" }\n",
        "Mode = \"m5out\" #@param [\"gem5.fast\", \"m5out\", \"build\",\"stats\"]\n",
        "Archive_name = \"m5out10.zip\" #@param {type:\"string\"}\n",
        "\n",
        "#Mount Google Drive as folder\n",
        "from google.colab import drive\n",
        "drive.mount('/content/drive', force_remount=True)\n",
        "\n",
        "def zip_and_copy(path, mode):\n",
        "  zip_cmd=\"-r -q \"+Archive_name+\" \"\n",
        "  \n",
        "  %cd $path\n",
        "  zip_cmd+=mode\n",
        "  !zip $zip_cmd\n",
        "  copy_cmd = \" \"+Archive_name+\"  /content/drive/My\\ Drive/\"\n",
        "  !cp $copy_cmd\n",
        "  !rm $Archive_name\n",
        "\n",
        "if Mode == \"gem5.fast\":\n",
        "  !cp /content/gem5/build/ARM/gem5.fast /content/drive/My\\ Drive/\n",
        "elif Mode == \"m5out\":\n",
        "  zip_and_copy(\"/content/gem5\", \"m5out\")\n",
        "elif Mode == \"build\":\n",
        "  zip_and_copy(\"/content/gem5\", \"build\")\n",
        "elif Mode == \"stats\":\n",
        "  !cp /content/gem5/m5out/stats.txt /content/drive/My\\ Drive/\n",
        "\n",
        "  \n",
        "print(\"Done!\")\n"
      ],
      "execution_count": null,
      "outputs": [
        {
          "output_type": "stream",
          "text": [
            "Mounted at /content/drive\n",
            "/content/gem5\n",
            "Done!\n"
          ],
          "name": "stdout"
        }
      ]
    },
    {
      "cell_type": "code",
      "metadata": {
        "id": "0hIvJtxwTGcb"
      },
      "source": [
        "#@title Import from URL{ form-width: \"30%\", display-mode: \"form\" }\n",
        "URL = \"http://\" #@param {type:\"string\"}\n",
        "Mode = \"unzip to content\" #@param [\"unzip to content\", \"unzip to content/workspace\", \"unzip to content/workspace/data_src\", \"unzip to content/workspace/data_src/aligned\", \"unzip to content/workspace/data_dst\", \"unzip to content/workspace/data_dst/aligned\", \"unzip to content/workspace/model\", \"download to content/workspace\"]\n",
        "\n",
        "import urllib.request\n",
        "from pathlib import Path\n",
        "\n",
        "def unzip(zip_path, dest_path):\n",
        "\n",
        "    \n",
        "  unzip_cmd = \" unzip -q \" + zip_path + \" -d \"+dest_path\n",
        "  !$unzip_cmd  \n",
        "  rm_cmd = \"rm \"+dest_path + url_path.name\n",
        "  !$rm_cmd\n",
        "  print(\"Unziped!\")\n",
        "  \n",
        "\n",
        "if Mode == \"unzip to content\":\n",
        "  dest_path = \"/content/\"\n",
        "elif Mode == \"unzip to content/workspace\":\n",
        "  dest_path = \"/content/workspace/\"\n",
        "elif Mode == \"unzip to content/workspace/data_src\":\n",
        "  dest_path = \"/content/workspace/data_src/\"\n",
        "elif Mode == \"unzip to content/workspace/data_src/aligned\":\n",
        "  dest_path = \"/content/workspace/data_src/aligned/\"\n",
        "elif Mode == \"unzip to content/workspace/data_dst\":\n",
        "  dest_path = \"/content/workspace/data_dst/\"\n",
        "elif Mode == \"unzip to content/workspace/data_dst/aligned\":\n",
        "  dest_path = \"/content/workspace/data_dst/aligned/\"\n",
        "elif Mode == \"unzip to content/workspace/model\":\n",
        "  dest_path = \"/content/workspace/model/\"\n",
        "elif Mode == \"download to content/workspace\":\n",
        "  dest_path = \"/content/workspace/\"\n",
        "\n",
        "if not Path(\"/content/workspace\").exists():\n",
        "  cmd = \"mkdir /content/workspace; mkdir /content/workspace/data_src; mkdir /content/workspace/data_src/aligned; mkdir /content/workspace/data_dst; mkdir /content/workspace/data_dst/aligned; mkdir /content/workspace/model\"\n",
        "  !$cmd\n",
        "\n",
        "url_path = Path(URL)\n",
        "urllib.request.urlretrieve ( URL, dest_path + url_path.name )\n",
        "\n",
        "if (url_path.suffix == \".zip\") and (Mode!=\"download to content/workspace\"):\n",
        "  unzip(dest_path + url_path.name, dest_path)\n",
        "\n",
        "  \n",
        "print(\"Done!\")"
      ],
      "execution_count": null,
      "outputs": []
    },
    {
      "cell_type": "code",
      "metadata": {
        "id": "7V1sc7rxNKLO",
        "cellView": "form"
      },
      "source": [
        "#@title Export to URL\n",
        "URL = \"http://\" #@param {type:\"string\"}\n",
        "Mode = \"upload workspace\" #@param [\"upload workspace\", \"upload data_src\", \"upload data_dst\", \"upload data_src aligned\", \"upload data_dst aligned\", \"upload merged\", \"upload model\", \"upload result video\"]\n",
        "\n",
        "cmd_zip = \"zip -r -q \"\n",
        "\n",
        "def run_cmd(zip_path, curl_url):\n",
        "  cmd_zip = \"zip -r -q \"+zip_path\n",
        "  cmd_curl = \"curl --silent -F \"+curl_url+\" -D out.txt > /dev/null\"\n",
        "  !$cmd_zip\n",
        "  !$cmd_curl\n",
        "\n",
        "\n",
        "if Mode == \"upload workspace\":\n",
        "  %cd \"/content\"\n",
        "  run_cmd(\"workspace.zip workspace/\",\"'data=@/content/workspace.zip' \"+URL)\n",
        "elif Mode == \"upload data_src\":\n",
        "  %cd \"/content/workspace\"\n",
        "  run_cmd(\"data_src.zip data_src/\", \"'data=@/content/workspace/data_src.zip' \"+URL)\n",
        "elif Mode == \"upload data_dst\":\n",
        "  %cd \"/content/workspace\"\n",
        "  run_cmd(\"data_dst.zip data_dst/\", \"'data=@/content/workspace/data_dst.zip' \"+URL)\n",
        "elif Mode == \"upload data_src aligned\":\n",
        "  %cd \"/content/workspace\"\n",
        "  run_cmd(\"data_src_aligned.zip data_src/aligned\", \"'data=@/content/workspace/data_src_aligned.zip' \"+URL )\n",
        "elif Mode == \"upload data_dst aligned\":\n",
        "  %cd \"/content/workspace\"\n",
        "  run_cmd(\"data_dst_aligned.zip data_dst/aligned/\", \"'data=@/content/workspace/data_dst_aligned.zip' \"+URL)\n",
        "elif Mode == \"upload merged\":\n",
        "  %cd \"/content/workspace/data_dst\"\n",
        "  run_cmd(\"merged.zip merged/\",\"'data=@/content/workspace/data_dst/merged.zip' \"+URL )\n",
        "elif Mode == \"upload model\":\n",
        "  %cd \"/content/workspace\"\n",
        "  run_cmd(\"model.zip model/\", \"'data=@/content/workspace/model.zip' \"+URL)\n",
        "elif Mode == \"upload result video\":\n",
        "  %cd \"/content/workspace\"\n",
        "  run_cmd(\"result.zip result.mp4\", \"'data=@/content/workspace/result.zip' \"+URL)\n",
        "  \n",
        "  \n",
        "!rm *.zip\n",
        "\n",
        "%cd \"/content\"\n",
        "print(\"Done!\")"
      ],
      "execution_count": null,
      "outputs": []
    },
    {
      "cell_type": "code",
      "metadata": {
        "id": "Kq--kI-Hbb41"
      },
      "source": [
        "#@title Build simulation binary, slow.\n",
        "ISA = \"ARM\" #@param [\"ARM\", \"x86\", \"ALPHA\", \"MIPS\", \"RISCV\", \"POWER\"]\n",
        "%cd /content/gem5\n",
        "!/usr/bin/env python3 $(which scons) build/ARM/gem5.fast\n",
        "#!scons build/ARM/gem5.fast -j8\n",
        "\n"
      ],
      "execution_count": null,
      "outputs": []
    },
    {
      "cell_type": "markdown",
      "metadata": {
        "id": "tUNVcbujhm00"
      },
      "source": [
        "## Create simulation checkpoint\n",
        "* sudo mkdir /mnt/p2;sudo mount /dev/sdb /mnt/p2;cd /mnt/p2;./vant2loadHinfinityFPE;/sbin/m5 exit\n",
        "\n",
        "Checkpoint 1 - Hackback kernel\n",
        "\n",
        "Checkpoint 2 - Terminal\n",
        "\n",
        "Checkpoint 3 - Terminal execute ./SUT and exit\n"
      ]
    },
    {
      "cell_type": "code",
      "metadata": {
        "id": "fb4KkHdHco41"
      },
      "source": [
        "%cd /content/gem5/\n",
        "!build/ARM/gem5.fast configs/example/fs.py --disk-image=linaro-minimal-aarch64.img --disk-image=workloads.img --kernel=vmlinux.vexpress_gem5_v1_64 --machine-type=VExpress_GEM5_V1 --dtb=armv8_gem5_v1_1cpu.dtb --cpu-type=HPI --num-cpus=1 --mem-type=LPDDR2_S4_1066_1x32 --mem-size=1GB --caches --l2cache --l2_size=512kB --l1i_size=16kB --l1d_size=16kB --cpu-clock=1.4GHz --sys-clock=1.4GHz --restore-with-cpu=HPI -r 3"
      ],
      "execution_count": null,
      "outputs": []
    },
    {
      "cell_type": "code",
      "metadata": {
        "id": "VnBbMN5rT4VX",
        "cellView": "form"
      },
      "source": [
        "#@title Create Checkpoint\n",
        "\n",
        "#!cp /Library/Frameworks/Python.framework/Versions/3.7/lib/python3.7/site-packages/six.py /usr/local/lib/python3.7/site-packages\n",
        "%cd /content/gem5/\n",
        "!build/ARM/gem5.fast configs/example/fs.py --disk-image=linaro-minimal-aarch64.img --disk-image=workloads.img --kernel=vmlinux.vexpress_gem5_v1_64 --machine-type=VExpress_GEM5_V1 --dtb=armv8_gem5_v1_1cpu.dtb --cpu-type=AtomicSimpleCPU --num-cpus=1 --mem-type=LPDDR2_S4_1066_1x32 --mem-size=1GB --caches --l2cache --l2_size=512kB --l1i_size=16kB --l1d_size=16kB --cpu-clock=1.4GHz --sys-clock=1.4GHz --script=control.rcS --restore-with-cpu=HPI\n",
        "#!build/ARM/gem5.fast configs/example/fs.py --disk-image=linaro-minimal-aarch64.img --disk-image=workloads.img --kernel=vmlinux.vexpress_gem5_v1_64 --machine-type=VExpress_GEM5_V1 --dtb=armv8_gem5_v1_4cpu.dtb --cpu-type=AtomicSimpleCPU --num-cpus=4 --mem-type=LPDDR2_S4_1066_1x32 --mem-size=1GB --caches --l2cache --l2_size=512kB --l1i_size=16kB --l1d_size=16kB --cpu-clock=1.4GHz --sys-clock=1.4GHz --restore-with-cpu=HPI\n",
        "#!build/ARM/gem5.fast configs/example/fs.py --disk-image=linaro-minimal-aarch64.img --disk-image=workloads.img --kernel=vmlinux.vexpress_gem5_v1_64 --machine-type=VExpress_GEM5_V1 --dtb=armv8_gem5_v1_1cpu.dtb --cpu-type=AtomicSimpleCPU --num-cpus=1 --mem-type=LPDDR2_S4_1066_1x32 --mem-size=1GB --caches --l2cache --l2_size=512kB --l1i_size=16kB --l1d_size=16kB --cpu-clock=1.4GHz --sys-clock=1.4GHz --restore-with-cpu=HPI"
      ],
      "execution_count": null,
      "outputs": []
    },
    {
      "cell_type": "markdown",
      "metadata": {
        "id": "WTuyUxgdLA13"
      },
      "source": [
        "## Run simulation\n",
        "\n",
        "* Select parameters and run simulation with desired checkpoint"
      ]
    },
    {
      "cell_type": "code",
      "metadata": {
        "id": "qwJEbz5Nhot0",
        "cellView": "form"
      },
      "source": [
        "#@title Choose architecture and parameters\n",
        "\n",
        "CPU_cores= \"1\" #@param {type:\"string\"} \n",
        "CPU_frequency= \"1.4GHz\" #@param {type:\"string\"}\n",
        "L1_Icache= \"16kB\" #@param {type:\"string\"}\n",
        "L1_Dcache= \"16kB\" #@param {type:\"string\"}\n",
        "L2_cache= \"512kB\" #@param {type:\"string\"}\n",
        "\n",
        "\n",
        "%cd \"/content\"\n",
        "\n",
        "\n",
        "!python $cmd"
      ],
      "execution_count": null,
      "outputs": []
    },
    {
      "cell_type": "code",
      "metadata": {
        "id": "d8OJnXHYaKBY",
        "cellView": "form"
      },
      "source": [
        "#@title List CPU models\n",
        "import psutil, os, time\n",
        "p = psutil.Process(os.getpid())\n",
        "uptime = time.time() - p.create_time()\n",
        "print(\"Time to end session: \"+str(round((43200-uptime)/3600))+\" hours\")\n",
        "%cd /content/gem5/\n",
        "!build/ARM/gem5.fast configs/example/fs.py --list-cpu-types"
      ],
      "execution_count": null,
      "outputs": []
    },
    {
      "cell_type": "code",
      "metadata": {
        "id": "kN6S6Cpgt07I",
        "cellView": "form"
      },
      "source": [
        "#@title Run Simulation with control.rcS script\n",
        "import psutil, os, time\n",
        "p = psutil.Process(os.getpid())\n",
        "uptime = time.time() - p.create_time()\n",
        "print(\"Time to end session: \"+str(round((43200-uptime)/3600))+\" hours\")\n",
        "#!cp /Library/Frameworks/Python.framework/Versions/3.7/lib/python3.7/site-packages/six.py /usr/local/lib/python3.7/site-packages\n",
        "%cd /content/gem5/\n",
        "\n",
        "#Run simulation 4cpu hackback\n",
        "#!build/ARM/gem5.fast configs/example/fs.py --disk-image=linaro-minimal-aarch64.img --disk-image=workloads.img --kernel=vmlinux.vexpress_gem5_v1_64 --machine-type=VExpress_GEM5_V1 --dtb=armv8_gem5_v1_4cpu.dtb --cpu-type=HPI --num-cpus=4 --mem-type=LPDDR2_S4_1066_1x32 --mem-size=1GB --caches --l2cache --l2_size=512kB --l1i_size=16kB --l1d_size=16kB --cpu-clock=1.4GHz --sys-clock=1.4GHz --restore-with-cpu=HPI --script=control.rcS -r 1\n",
        "\n",
        "#Run simulation 1cpu hackback\n",
        "#!build/ARM/gem5.fast configs/example/fs.py --disk-image=linaro-minimal-aarch64.img --disk-image=workloads.img --kernel=vmlinux.vexpress_gem5_v1_64 --machine-type=VExpress_GEM5_V1 --dtb=armv8_gem5_v1_1cpu.dtb --cpu-type=HPI --num-cpus=1 --mem-type=LPDDR2_S4_1066_1x32 --mem-size=1GB --caches --l2cache --l2_size=512kB --l1i_size=16kB --l1d_size=16kB --cpu-clock=1.4GHz --sys-clock=1.4GHz --restore-with-cpu=HPI --script=control.rcS -r 1\n",
        "\n",
        "#Run simulation 4cpu fully booted system \n",
        "#!build/ARM/gem5.fast configs/example/fs.py --disk-image=linaro-minimal-aarch64.img --disk-image=workloads.img --kernel=vmlinux.vexpress_gem5_v1_64 --machine-type=VExpress_GEM5_V1 --dtb=armv8_gem5_v1_4cpu.dtb --cpu-type=HPI --num-cpus=4 --mem-type=LPDDR2_S4_1066_1x32 --mem-size=1GB --caches --l2cache --l2_size=512kB --l1i_size=16kB --l1d_size=16kB --cpu-clock=1.4GHz --sys-clock=1.4GHz --restore-with-cpu=HPI --script=control.rcS -r 4\n",
        "#!build/ARM/gem5.fast configs/example/fs.py --disk-image=linaro-minimal-aarch64.img --disk-image=workloads.img --kernel=vmlinux.vexpress_gem5_v1_64 --machine-type=VExpress_GEM5_V1 --dtb=armv8_gem5_v1_4cpu.dtb --cpu-type=HPI --num-cpus=4 --mem-type=LPDDR2_S4_1066_1x32 --mem-size=1GB --caches --l2cache --l2_size=512kB --l1i_size=16kB --l1d_size=16kB --cpu-clock=1.4GHz --sys-clock=1.4GHz --restore-with-cpu=HPI --script=control.rcS -r 5 \n",
        "\n",
        "#Run simulation 1cpu fully booted system \n",
        "!build/ARM/gem5.fast configs/example/fs.py --disk-image=linaro-minimal-aarch64.img --disk-image=workloads.img --kernel=vmlinux.vexpress_gem5_v1_64 --machine-type=VExpress_GEM5_V1 --dtb=armv8_gem5_v1_1cpu.dtb --cpu-type=HPI --num-cpus=1 --mem-type=LPDDR2_S4_1066_1x32 --mem-size=1GB --caches --l2cache --l2_size=512kB --l1i_size=16kB --l1d_size=16kB --cpu-clock=1.4GHz --sys-clock=1.4GHz --restore-with-cpu=HPI -r 3\n",
        "\n",
        "\n",
        "#!build/ARM/gem5.fast configs/example/fs.py --disk-image=linaro-minimal-aarch64.img --disk-image=workloads.img --kernel=vmlinux.vexpress_gem5_v1_64 --machine-type=VExpress_GEM5_V1 --dtb=armv8_gem5_v1_1cpu.dtb --cpu-type=AtomicSimpleCPU --num-cpus=1 --mem-type=LPDDR2_S4_1066_1x32 --mem-size=1GB --caches --l2cache --l2_size=512kB --l1i_size=16kB --l1d_size=16kB --cpu-clock=1.4GHz --sys-clock=1.4GHz --restore-with-cpu=HPI\n",
        "\n",
        "\n",
        "\n"
      ],
      "execution_count": null,
      "outputs": []
    },
    {
      "cell_type": "markdown",
      "metadata": {
        "id": "GgxAx-qAXD0F"
      },
      "source": [
        "## SSH into colab"
      ]
    },
    {
      "cell_type": "code",
      "metadata": {
        "cellView": "form",
        "id": "c5Iw87jB8F0s"
      },
      "source": [
        "#@title  SSH into Colab\n",
        "import random, string, urllib.request, json, getpass\n",
        "\n",
        "#Generate root password\n",
        "password = ''.join(random.choice(string.ascii_letters + string.digits) for i in range(20))\n",
        "\n",
        "#Download ngrok\n",
        "! wget -q -c -nc https://bin.equinox.io/c/4VmDzA7iaHb/ngrok-stable-linux-amd64.zip\n",
        "! unzip -qq -n ngrok-stable-linux-amd64.zip\n",
        "\n",
        "#Setup sshd\n",
        "! apt-get install -qq -o=Dpkg::Use-Pty=0 openssh-server pwgen > /dev/null\n",
        "\n",
        "#Set root password\n",
        "! echo root:$password | chpasswd\n",
        "! mkdir -p /var/run/sshd\n",
        "! echo \"PermitRootLogin yes\" >> /etc/ssh/sshd_config\n",
        "! echo \"PasswordAuthentication yes\" >> /etc/ssh/sshd_config\n",
        "! echo \"LD_LIBRARY_PATH=/usr/lib64-nvidia\" >> /root/.bashrc\n",
        "! echo \"export LD_LIBRARY_PATH\" >> /root/.bashrc\n",
        "\n",
        "#Run sshd\n",
        "get_ipython().system_raw('/usr/sbin/sshd -D &')\n",
        "\n",
        "#Ask token\n",
        "print(\"Copy authtoken from https://dashboard.ngrok.com/auth\")\n",
        "authtoken = getpass.getpass()\n",
        "print(f'Root password: {password}')\n",
        "#Create tunnel\n",
        "get_ipython().system_raw('./ngrok authtoken $authtoken && ./ngrok tcp 22 &')\n",
        "\n",
        "#Get public address and print connect command\n",
        "with urllib.request.urlopen('http://localhost:4040/api/tunnels') as response:\n",
        "  data = json.loads(response.read().decode())\n",
        "  (host, port) = data['tunnels'][0]['public_url'][6:].split(':')\n",
        "  print(f'SSH command: ssh -p{port} root@{host}')\n",
        "\n",
        "#Print root password\n",
        "print(f'Root password: {password}')"
      ],
      "execution_count": null,
      "outputs": []
    },
    {
      "cell_type": "code",
      "metadata": {
        "id": "x6c9bG8w8-d4"
      },
      "source": [
        "! curl -s http://localhost:4040/api/tunnels"
      ],
      "execution_count": null,
      "outputs": []
    },
    {
      "cell_type": "code",
      "metadata": {
        "id": "dI7xTU-tbyT3"
      },
      "source": [
        "!build/ARM/gem5.fast configs/example/fs.py --disk-image=linaro-minimal-aarch64.img --disk-image=workloads.img --kernel=vmlinux.vexpress_gem5_v1_64 --machine-type=VExpress_GEM5_V1 --dtb=armv8_gem5_v1_4cpu.dtb --cpu-type=HPI --num-cpus=4 --mem-type=LPDDR2_S4_1066_1x32 --mem-size=1GB --caches --l2cache --l2_size=512kB --l1i_size=16kB --l1d_size=16kB --cpu-clock=1.4GHz --sys-clock=1.4GHz --restore-with-cpu=HPI --script=control.rcS -r 1 "
      ],
      "execution_count": null,
      "outputs": []
    },
    {
      "cell_type": "code",
      "metadata": {
        "id": "fyEs5qEJmRwF"
      },
      "source": [
        "!free -m"
      ],
      "execution_count": null,
      "outputs": []
    }
  ]
}